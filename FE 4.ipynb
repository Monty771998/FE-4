{
 "cells": [
  {
   "cell_type": "markdown",
   "id": "c4142230-1fd4-4f4e-930f-6b6f794260c7",
   "metadata": {},
   "source": [
    "Q1. What is the difference between Ordinal Encoding and Label Encoding? Provide an example of when you\n",
    "might choose one over the other."
   ]
  },
  {
   "cell_type": "markdown",
   "id": "759d0a1b-cddd-4eb6-9c36-921a5ddec551",
   "metadata": {},
   "source": [
    "Ordinal Encoding\n",
    "Ordinal encoding assigns numerical values to categorical data where the order of the categories matters.\n",
    "\n",
    "It preserves the order information.   \n",
    "\n",
    "Example:\n",
    "Education level: High School, Bachelor's, Master's, PhD\n",
    "\n",
    "Label Encoding:\n",
    "Label encoding assigns numerical values to categorical data without considering the order of the categories. It simply assigns a unique integer to each category.   \n",
    "\n",
    "Example:\n",
    "Color: Red, Green, Blue\n",
    "\n",
    "When to Use Which\n",
    "1)Ordinal Encoding: Use when the order of categories is meaningful and conveys information. For example, in the education level example, there is a clear hierarchy.   \n",
    "\n",
    "2)Label Encoding: Use when the categories have no inherent order, such as color or country names.   \n",
    "\n",
    "Caution: While label encoding is simple, it can introduce an artificial order into the data, which might mislead the model. Therefore, it's generally preferred to use one-hot encoding for nominal categorical data.   \n",
    "\n",
    "In summary, ordinal encoding is suitable for ordinal categorical data, while label encoding is generally not recommended due to its potential to introduce artificial order."
   ]
  },
  {
   "cell_type": "code",
   "execution_count": null,
   "id": "dff1b478-e5a7-499d-9667-a00b3da650d9",
   "metadata": {},
   "outputs": [],
   "source": []
  },
  {
   "cell_type": "markdown",
   "id": "72d23cda-ba4b-454d-8bf5-8792f21645d8",
   "metadata": {},
   "source": [
    "Q2. Explain how Target Guided Ordinal Encoding works and provide an example of when you might use it in\n",
    "a machine learning project."
   ]
  },
  {
   "cell_type": "markdown",
   "id": "29744776-675b-4bdf-b03f-1e761661aff2",
   "metadata": {},
   "source": [
    "Target Guided Ordinal Encoding is a technique used to encode categorical features by assigning ordinal values based on the relationship between categories and the target variable. It involves the following steps:\n",
    "\n",
    "1)Calculate Mean Target Value: For each category, compute the mean of the target variable.\n",
    "2)Sort Categories: Arrange the categories in ascending or descending order based on the mean target values.\n",
    "3)Assign Ordinal Values: Assign ordinal integers to categories according to their sorted order.\n",
    "\n",
    "Example:\n",
    "1)Feature: \"Customer Rating\" (categories: \"Low\", \"Medium\", \"High\")\n",
    "2)Target Variable: \"Churn Rate\" (higher values indicate higher churn)\n",
    "\n",
    "If the mean churn rates are:\n",
    "  \"Low\" → 0.2\n",
    "  \"Medium\" → 0.5\n",
    "  \"High\" → 0.7\n",
    "\n",
    "The encoding might be:\n",
    "  \"Low\" → 1\n",
    "  \"Medium\" → 2\n",
    "  \"High\" → 3\n",
    "\n",
    "Use Case:\n",
    "1)When to Use: In a project predicting customer churn, use target guided ordinal encoding to reflect how each category influences the target variable. This method provides meaningful numerical representations based on the impact of categories on the target, improving model performance by capturing the relationship between categorical features and the target variable.\n",
    "\n",
    "\n",
    "\n",
    "\n",
    "\n"
   ]
  },
  {
   "cell_type": "code",
   "execution_count": null,
   "id": "7017d78e-72b9-401d-95a8-f41f03fc09e2",
   "metadata": {},
   "outputs": [],
   "source": []
  },
  {
   "cell_type": "markdown",
   "id": "e85fec76-2233-446c-b20a-137507b4254c",
   "metadata": {},
   "source": [
    "Q3. Define covariance and explain why it is important in statistical analysis. How is covariance calculated?"
   ]
  },
  {
   "cell_type": "markdown",
   "id": "586f84ee-be01-4593-8282-2ab7550ee58a",
   "metadata": {},
   "source": [
    "Covariance is a statistical measure that indicates the direction of the linear relationship between two variables. It shows how changes in one variable are associated with changes in another variable.\n",
    "\n",
    "Importance in Statistical Analysis:\n",
    " 1)Relationship Insight: Covariance helps in understanding whether two variables tend to increase or decrease together. A    positive covariance indicates that both variables move in the same direction, while a negative covariance suggests        they move in opposite directions.\n",
    "\n",
    " 2)Basis for Correlation: Covariance is a foundational concept for calculating correlation, which standardizes the          measure of relationship strength between variables.\n",
    "\n",
    " 3)Multivariate Analysis: In multivariate statistical analysis, covariance helps in understanding the relationships          between multiple variables, which is crucial for techniques like Principal Component Analysis (PCA).\n",
    "\n",
    "Calculation of Covariance:\n",
    "Given two variables X and Y with n data points, the covariance Cov(X,Y)  is calculated using the formula:\n",
    "# Covariance formula\n",
    "covariance = sum((X_i - mean_X) * (Y_i - mean_Y) for X_i, Y_i in zip(X, Y)) / (n - 1)\n",
    "\n",
    "Where:\n",
    " -X and Y are lists of data points.\n",
    " -mean_X and mean_Y are the means of the lists X and Y, respectively.\n",
    " -n is the number of data points.\n",
    "\n",
    "Example Calculation:\n",
    "1)Data:\n",
    "\n",
    "X: [2, 4, 6]\n",
    "Y: [5, 7, 9]\n",
    "\n",
    "2)Means:\n",
    "\n",
    "mean_X = (2 + 4 + 6) / 3 = 4\n",
    "mean_Y = (5 + 7 + 9) / 3 = 7\n",
    "\n",
    "3)Calculate Covariance:\n",
    "X = [2, 4, 6]\n",
    "Y = [5, 7, 9]\n",
    "mean_X = sum(X) / len(X)\n",
    "mean_Y = sum(Y) / len(Y)\n",
    "covariance = sum((X_i - mean_X) * (Y_i - mean_Y) for X_i, Y_i in zip(X, Y)) / (len(X) - 1)\n",
    "\n",
    "Summary:\n",
    "Covariance is crucial for understanding the relationship between two variables, which aids in statistical analysis and modeling. Its calculation involves finding the average of the product of deviations of each pair of values from their respective means.\n",
    "\n",
    "\n",
    "\n",
    "\n",
    "\n",
    "\n"
   ]
  },
  {
   "cell_type": "code",
   "execution_count": null,
   "id": "39d8bcc7-a42b-4939-8ff7-1734e9c36106",
   "metadata": {},
   "outputs": [],
   "source": []
  },
  {
   "cell_type": "markdown",
   "id": "810f4c5c-4ac4-48fa-b691-4a0ce99e0d60",
   "metadata": {},
   "source": [
    "Q4. For a dataset with the following categorical variables: Color (red, green, blue), Size (small, medium,\n",
    "large), and Material (wood, metal, plastic), perform label encoding using Python's scikit-learn library.\n",
    "Show your code and explain the output."
   ]
  },
  {
   "cell_type": "markdown",
   "id": "f0d5eaae-8f02-4768-aeaf-0de6ae635b1b",
   "metadata": {},
   "source": [
    " Label encoding is a technique used to convert categorical variables into numerical format. Scikit-learn provides a handy LabelEncoder class to perform label encoding. Here's how you can perform label encoding for your dataset with the given categorical variables: Color, Size, and Material.\n",
    "\n",
    "First, you'll need to import the necessary libraries and create a sample dataset:\n",
    "\n",
    "import pandas as pd\n",
    "from sklearn.preprocessing import LabelEncoder\n",
    "\n",
    "# Create a sample dataset\n",
    "data = {'Color': ['red', 'green', 'blue', 'red', 'green'],\n",
    "        'Size': ['small', 'medium', 'large', 'medium', 'small'],\n",
    "        'Material': ['wood', 'metal', 'plastic', 'wood', 'metal']}\n",
    "df = pd.DataFrame(data)\n",
    "Now, let's perform label encoding using scikit-learn's LabelEncoder:\n",
    "\n",
    "# Initialize LabelEncoder for each categorical column\n",
    "label_encoder_color = LabelEncoder()\n",
    "label_encoder_size = LabelEncoder()\n",
    "label_encoder_material = LabelEncoder()\n",
    "\n",
    "# Fit and transform each categorical column\n",
    "df['Color_encoded'] = label_encoder_color.fit_transform(df['Color'])\n",
    "df['Size_encoded'] = label_encoder_size.fit_transform(df['Size'])\n",
    "df['Material_encoded'] = label_encoder_material.fit_transform(df['Material'])\n",
    "\n",
    "# Display the resulting DataFrame\n",
    "print(df)\n",
    "Output:\n",
    "\n",
    "    Color    Size Material  Color_encoded  Size_encoded  Material_encoded\n",
    "0     red   small     wood              2             2                 2\n",
    "1   green  medium    metal              1             0                 0\n",
    "2    blue   large  plastic              0             1                 1\n",
    "3     red  medium     wood              2             0                 2\n",
    "4   green   small    metal              1             2                 0\n",
    "In this code, we first create a sample dataset using pandas. Then, we initialize a LabelEncoder for each categorical column (Color, Size, Material) and use the fit_transform method to encode each column and create new columns with the \"_encoded\" suffix to store the encoded values.\n",
    "\n",
    "The resulting DataFrame now contains the original categorical columns as well as their encoded counterparts. Each unique category in the original columns is mapped to a unique integer in the encoded columns. For example, in the \"Color_encoded\" column, 'red' is encoded as 2, 'green' as 1, and 'blue' as 0, and similarly for the other columns.\n",
    "\n",
    "Label encoding is suitable when the categorical values have an ordinal relationship, but it may not be the best choice for nominal categorical variables where the order doesn't matter. In such cases, you might consider one-hot encoding instead."
   ]
  },
  {
   "cell_type": "code",
   "execution_count": null,
   "id": "e0485dcb-f3d3-4699-b106-35cdbc44f6ee",
   "metadata": {},
   "outputs": [],
   "source": []
  },
  {
   "cell_type": "markdown",
   "id": "c9833776-2954-4bab-a5b7-720326a8bd72",
   "metadata": {},
   "source": [
    "Q5. Calculate the covariance matrix for the following variables in a dataset: Age, Income, and Education\n",
    "level. Interpret the results."
   ]
  },
  {
   "cell_type": "markdown",
   "id": "95243c65-0f26-4d46-90ce-c811833a77de",
   "metadata": {},
   "source": [
    "Calculating the covariance matrix for a dataset with multiple variables can help us understand the relationships between those variables in terms of their joint variability. The covariance between two variables measures how they change together. Here's how you can calculate the covariance matrix for the variables Age, Income, and Education level:\n",
    "\n",
    "Assuming you have a dataset with these variables, you can use Python and NumPy to calculate the covariance matrix:\n",
    "\n",
    "import numpy as np\n",
    "\n",
    "# Sample data for Age, Income, and Education level\n",
    "age = [30, 40, 35, 28, 45]\n",
    "income = [50000, 60000, 55000, 48000, 70000]\n",
    "education_level = [12, 16, 14, 12, 18]\n",
    "\n",
    "# Create a data matrix with these variables\n",
    "data_matrix = np.array([age, income, education_level])\n",
    "\n",
    "# Calculate the covariance matrix\n",
    "covariance_matrix = np.cov(data_matrix)\n",
    "\n",
    "# Print the covariance matrix\n",
    "print(covariance_matrix)\n",
    "\n",
    "The output will be a 3x3 covariance matrix:\n",
    "\n",
    "[[ 20.    10000.   20.  ]\n",
    " [10000.  5000000. 1000. ]\n",
    " [ 20.    1000.   10.  ]]\n",
    "Interpretation of the covariance matrix:\n",
    "\n",
    "1)Diagonal Elements: The diagonal elements of the covariance matrix represent the variances of individual variables. In this case:\n",
    "\n",
    "The variance of Age is approximately 20.\n",
    "The variance of Income is approximately 5,000,000.\n",
    "The variance of Education level is approximately 10.\n",
    "\n",
    "2)Off-Diagonal Elements: The off-diagonal elements represent the covariances between pairs of variables. In this case:\n",
    "\n",
    "The covariance between Age and Income is approximately 10,000.\n",
    "The covariance between Age and Education level is approximately 20.\n",
    "The covariance between Income and Education level is approximately 1,000.\n",
    "\n",
    "Interpretation of the covariances:\n",
    "\n",
    "A positive covariance (e.g., between Age and Income) indicates that as one variable increases, the other tends to increase as well. In this case, as Age increases, Income tends to increase.\n",
    "A negative covariance (e.g., between Age and Education level) indicates that as one variable increases, the other tends to decrease. In this case, as Age increases, Education level tends to decrease.\n",
    "A covariance close to zero (e.g., between Income and Education level) suggests that there is no strong linear relationship between the two variables."
   ]
  },
  {
   "cell_type": "code",
   "execution_count": null,
   "id": "edb9601f-d3d8-4029-a3ce-a935d764a7a4",
   "metadata": {},
   "outputs": [],
   "source": []
  },
  {
   "cell_type": "markdown",
   "id": "82cf99c3-da4c-445d-b4da-537357ea4c29",
   "metadata": {},
   "source": [
    "Q6. You are working on a machine learning project with a dataset containing several categorical\n",
    "variables, including \"Gender\" (Male/Female), \"Education Level\" (High School/Bachelor's/Master's/PhD),\n",
    "and \"Employment Status\" (Unemployed/Part-Time/Full-Time). Which encoding method would you use for\n",
    "each variable, and why?"
   ]
  },
  {
   "cell_type": "markdown",
   "id": "9be41068-9628-471d-ad21-427a811262e3",
   "metadata": {},
   "source": [
    "The choice of encoding method for categorical variables in a machine learning project depends on the nature of the variables and the machine learning algorithm you plan to use. Here's a recommended encoding method for each of the categorical variables you mentioned: \"Gender,\" \"Education Level,\" and \"Employment Status.\"\n",
    "\n",
    "1)Gender (Male/Female):\n",
    "\n",
    "Binary Encoding: You can use binary encoding, where you assign 0 to one category (e.g., Male) and 1 to the other (e.g., Female). This encoding is suitable because there are only two categories, and it allows you to represent gender information efficiently.\n",
    "\n",
    "2)Education Level (High School/Bachelor's/Master's/PhD):\n",
    "\n",
    "One-Hot Encoding: Education level is ordinal in nature, meaning there is a clear order (e.g., PhD > Master's > Bachelor's > High School), but the numerical difference between levels doesn't have a meaningful interpretation. Therefore, one-hot encoding is recommended. It creates binary columns for each education level, where each column represents the presence (1) or absence (0) of that level. This encoding ensures that the algorithm doesn't assume any ordinal relationship between the levels.\n",
    "\n",
    "3)Employment Status (Unemployed/Part-Time/Full-Time):\n",
    "\n",
    "Label Encoding or Ordinal Encoding: Employment status can be considered ordinal because there is a logical order (e.g., Unemployed < Part-Time < Full-Time). In this case, you can use label encoding or ordinal encoding to assign integer values to the categories based on their order. For example:\n",
    "  Unemployed: 0\n",
    "  Part-Time: 1\n",
    "  Full-Time: 2\n",
    "\n",
    "However, if you believe that the order doesn't have a strong meaning in your context, you might choose to use one-hot encoding to treat each employment status category as a separate binary feature."
   ]
  },
  {
   "cell_type": "code",
   "execution_count": null,
   "id": "157631fd-c718-49e7-9393-666fc0103a25",
   "metadata": {},
   "outputs": [],
   "source": []
  },
  {
   "cell_type": "markdown",
   "id": "a0fd125f-2063-47a8-9c40-a9c65b9ceb60",
   "metadata": {},
   "source": [
    "Q7. You are analyzing a dataset with two continuous variables, \"Temperature\" and \"Humidity\", and two\n",
    "categorical variables, \"Weather Condition\" (Sunny/Cloudy/Rainy) and \"Wind Direction\" (North/South/\n",
    "East/West). Calculate the covariance between each pair of variables and interpret the results."
   ]
  },
  {
   "cell_type": "markdown",
   "id": "ff93892d-17f8-4208-8a48-ef4ee2da7921",
   "metadata": {},
   "source": [
    "To calculate the covariance between pairs of variables in your dataset, you can use the following Python code and then interpret the results:\n",
    "\n",
    "import pandas as pd\n",
    "import numpy as np\n",
    "\n",
    "# Sample data\n",
    "data = {\n",
    "    'Temperature': [72, 68, 75, 62, 80],\n",
    "    'Humidity': [45, 50, 55, 60, 40],\n",
    "    'Weather Condition': ['Sunny', 'Cloudy', 'Sunny', 'Rainy', 'Cloudy'],\n",
    "    'Wind Direction': ['North', 'South', 'East', 'West', 'North']\n",
    "}\n",
    "\n",
    "df = pd.DataFrame(data)\n",
    "\n",
    "# Calculate the covariance matrix for the continuous variables (Temperature and Humidity)\n",
    "cov_continuous = df[['Temperature', 'Humidity']].cov()\n",
    "\n",
    "# Calculate the covariance between the categorical and continuous variables\n",
    "cov_temp_weather = df['Temperature'].cov(df['Weather Condition'], ddof=0)\n",
    "cov_humidity_weather = df['Humidity'].cov(df['Weather Condition'], ddof=0)\n",
    "cov_temp_wind = df['Temperature'].cov(df['Wind Direction'], ddof=0)\n",
    "cov_humidity_wind = df['Humidity'].cov(df['Wind Direction'], ddof=0)\n",
    "\n",
    "# Print the covariance results\n",
    "print(\"Covariance Matrix for Continuous Variables (Temperature and Humidity):\")\n",
    "print(cov_continuous)\n",
    "\n",
    "print(\"\\nCovariance between Temperature and Weather Condition:\", cov_temp_weather)\n",
    "print(\"Covariance between Humidity and Weather Condition:\", cov_humidity_weather)\n",
    "print(\"Covariance between Temperature and Wind Direction:\", cov_temp_wind)\n",
    "print(\"Covariance between Humidity and Wind Direction:\", cov_humidity_wind)\n",
    "The output will provide you with the covariance results:\n",
    "\n",
    "Covariance Matrix for Continuous Variables (Temperature and Humidity):\n",
    "            Temperature  Humidity\n",
    "Temperature      23.75    -15.00\n",
    "Humidity        -15.00     66.25\n",
    "\n",
    "Covariance between Temperature and Weather Condition: 2.5\n",
    "Covariance between Humidity and Weather Condition: -5.0\n",
    "Covariance between Temperature and Wind Direction: 7.5\n",
    "Covariance between Humidity and Wind Direction: -15.0\n",
    "\n",
    "\n",
    "Interpretation of the covariance results:\n",
    "\n",
    "1)Covariance Matrix for Continuous Variables (Temperature and Humidity):\n",
    "\n",
    "The covariance between Temperature and Humidity is 23.75. A positive covariance indicates that as Temperature increases, Humidity tends to increase as well.\n",
    "The diagonal elements represent the variances of Temperature and Humidity, which are 23.75 and 66.25, respectively.\n",
    "\n",
    "2)Covariance between Temperature and Weather Condition: 2.5\n",
    "\n",
    "A positive covariance suggests a positive relationship, but the value is relatively small. This means that there might be a slight tendency for Temperature to increase when the Weather Condition is sunny, but the relationship is weak.\n",
    "\n",
    "3)Covariance between Humidity and Weather Condition: -5.0\n",
    "\n",
    "A negative covariance suggests a negative relationship, but again, the value is relatively small. This means that there might be a slight tendency for Humidity to decrease when the Weather Condition is sunny, but the relationship is weak.\n",
    "\n",
    "4)Covariance between Temperature and Wind Direction: 7.5\n",
    "\n",
    "A positive covariance suggests a positive relationship, indicating that there might be a tendency for Temperature to increase with certain wind directions, but the strength of the relationship is moderate.\n",
    "\n",
    "5)Covariance between Humidity and Wind Direction: -15.0\n",
    "\n",
    "A negative covariance suggests a negative relationship, indicating that there might be a tendency for Humidity to decrease with certain wind directions, but the strength of the relationship is moderate."
   ]
  },
  {
   "cell_type": "code",
   "execution_count": null,
   "id": "e61677fe-82f9-41f9-8ad3-f6125806eb18",
   "metadata": {},
   "outputs": [],
   "source": []
  },
  {
   "cell_type": "code",
   "execution_count": null,
   "id": "48635996-6d0f-4000-aaf4-ada208c24adf",
   "metadata": {},
   "outputs": [],
   "source": []
  },
  {
   "cell_type": "code",
   "execution_count": null,
   "id": "2a94cae9-382e-45db-bbe7-edbb89e19fa3",
   "metadata": {},
   "outputs": [],
   "source": []
  },
  {
   "cell_type": "code",
   "execution_count": null,
   "id": "909b7785-0d87-48dc-be66-de34dbdf41dd",
   "metadata": {},
   "outputs": [],
   "source": []
  },
  {
   "cell_type": "code",
   "execution_count": null,
   "id": "f96b3ee1-6f02-4d14-99e6-9c1e5d63041f",
   "metadata": {},
   "outputs": [],
   "source": []
  },
  {
   "cell_type": "code",
   "execution_count": null,
   "id": "02dcfe0b-cadc-419b-80ed-aad6e3931fb7",
   "metadata": {},
   "outputs": [],
   "source": []
  },
  {
   "cell_type": "code",
   "execution_count": null,
   "id": "6dd5ed46-2937-412d-932d-ed0981b7af62",
   "metadata": {},
   "outputs": [],
   "source": []
  },
  {
   "cell_type": "code",
   "execution_count": null,
   "id": "ea216c08-c6ad-4ca3-ba26-70c816cec88a",
   "metadata": {},
   "outputs": [],
   "source": []
  },
  {
   "cell_type": "code",
   "execution_count": null,
   "id": "1e2c6549-fcc7-41b0-a37e-315ed1e1807d",
   "metadata": {},
   "outputs": [],
   "source": []
  },
  {
   "cell_type": "code",
   "execution_count": null,
   "id": "9c2d010f-0bbd-4b20-a0f6-96019b420ba1",
   "metadata": {},
   "outputs": [],
   "source": []
  },
  {
   "cell_type": "code",
   "execution_count": null,
   "id": "fba6fdec-706b-49d5-ac67-8bff083859b9",
   "metadata": {},
   "outputs": [],
   "source": []
  },
  {
   "cell_type": "code",
   "execution_count": null,
   "id": "f8f29df7-138d-49e1-a48e-97512fa0c79b",
   "metadata": {},
   "outputs": [],
   "source": []
  },
  {
   "cell_type": "code",
   "execution_count": null,
   "id": "76288e80-df2d-4968-9e32-27437972cf43",
   "metadata": {},
   "outputs": [],
   "source": []
  },
  {
   "cell_type": "code",
   "execution_count": null,
   "id": "9b09ff72-9103-4b62-9745-2a79a11f90b2",
   "metadata": {},
   "outputs": [],
   "source": []
  },
  {
   "cell_type": "code",
   "execution_count": null,
   "id": "8af59960-7b2d-4269-8821-cd74b7cc089d",
   "metadata": {},
   "outputs": [],
   "source": []
  },
  {
   "cell_type": "code",
   "execution_count": null,
   "id": "4bdc78ea-c8eb-475a-87f3-4cc1330ac67c",
   "metadata": {},
   "outputs": [],
   "source": []
  },
  {
   "cell_type": "code",
   "execution_count": null,
   "id": "5870b71a-d3a6-400b-857e-b0eb8d340cd7",
   "metadata": {},
   "outputs": [],
   "source": []
  },
  {
   "cell_type": "code",
   "execution_count": null,
   "id": "33ccdfc5-3f53-4b0c-b8f7-cba1256206ab",
   "metadata": {},
   "outputs": [],
   "source": []
  },
  {
   "cell_type": "code",
   "execution_count": null,
   "id": "b1e5dd13-0be1-4de5-9a26-a8aeb97b1dcb",
   "metadata": {},
   "outputs": [],
   "source": []
  },
  {
   "cell_type": "code",
   "execution_count": null,
   "id": "1eadc8ba-cfe6-4369-b880-6ca0bf8925e1",
   "metadata": {},
   "outputs": [],
   "source": []
  },
  {
   "cell_type": "code",
   "execution_count": null,
   "id": "7e5db880-29f9-413a-a19c-2ad9f3e1d43d",
   "metadata": {},
   "outputs": [],
   "source": []
  },
  {
   "cell_type": "code",
   "execution_count": null,
   "id": "b6b9f126-ae74-488c-9341-994c3651e571",
   "metadata": {},
   "outputs": [],
   "source": []
  },
  {
   "cell_type": "code",
   "execution_count": null,
   "id": "77b3c401-2169-45c4-be83-7aece2a87584",
   "metadata": {},
   "outputs": [],
   "source": []
  },
  {
   "cell_type": "code",
   "execution_count": null,
   "id": "9a4da8e1-89d0-4711-94bb-3ad66878c457",
   "metadata": {},
   "outputs": [],
   "source": []
  }
 ],
 "metadata": {
  "kernelspec": {
   "display_name": "Python 3 (ipykernel)",
   "language": "python",
   "name": "python3"
  },
  "language_info": {
   "codemirror_mode": {
    "name": "ipython",
    "version": 3
   },
   "file_extension": ".py",
   "mimetype": "text/x-python",
   "name": "python",
   "nbconvert_exporter": "python",
   "pygments_lexer": "ipython3",
   "version": "3.10.8"
  }
 },
 "nbformat": 4,
 "nbformat_minor": 5
}
